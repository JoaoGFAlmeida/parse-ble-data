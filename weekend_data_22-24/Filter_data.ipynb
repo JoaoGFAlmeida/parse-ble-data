{
 "cells": [
  {
   "cell_type": "code",
   "execution_count": 7,
   "id": "20cf0984-5c23-409d-887a-070bea7b0aba",
   "metadata": {},
   "outputs": [],
   "source": [
    "import pandas as pd\n",
    "import json\n",
    "import glob\n",
    "import os\n",
    "import pandasql as ps"
   ]
  },
  {
   "cell_type": "code",
   "execution_count": 4,
   "id": "21b765b8-4ed2-4c1a-88ff-a29fb231e9fa",
   "metadata": {},
   "outputs": [
    {
     "name": "stdout",
     "output_type": "stream",
     "text": [
      "                  timestamp     type           mac  gatewayFree  gatewayLoad  \\\n",
      "0  2025-08-22T12:59:19.421Z  Gateway  AC233FC15CC5         57.0         0.07   \n",
      "1  2025-08-22T12:59:19.614Z  Unknown  C30000400862          NaN          NaN   \n",
      "2  2025-08-22T12:59:19.957Z  Unknown  C30000400861          NaN          NaN   \n",
      "3  2025-08-22T12:59:20.209Z  Unknown  C30000400862          NaN          NaN   \n",
      "4  2025-08-22T12:59:20.510Z  Gateway  AC233FC15CC5         57.0         0.07   \n",
      "\n",
      "       seq               arquivo_origem  \\\n",
      "0  81488.0  2025-08-22_12-59-20.462.txt   \n",
      "1      NaN  2025-08-22_12-59-20.462.txt   \n",
      "2      NaN  2025-08-22_12-59-20.462.txt   \n",
      "3      NaN  2025-08-22_12-59-20.462.txt   \n",
      "4  81489.0  2025-08-22_12-59-20.462.txt   \n",
      "\n",
      "                                             rawData bleName  bleNo  rssi  \\\n",
      "0                                                NaN     NaN    NaN   NaN   \n",
      "1  02010617FF3906CA03246208400000C321642500082201...            2.0 -53.0   \n",
      "2  02010617FF3906CA03246108400000C321642500082201...            2.0 -62.0   \n",
      "3  0201061BFF3906CA1A01642200FCCF7E0840EE570840E5...            2.0 -53.0   \n",
      "4                                                NaN     NaN    NaN   NaN   \n",
      "\n",
      "  ibeaconUuid  ibeaconMajor  ibeaconMinor  ibeaconTxPower  battery  \n",
      "0         NaN           NaN           NaN             NaN      NaN  \n",
      "1         NaN           NaN           NaN             NaN      NaN  \n",
      "2         NaN           NaN           NaN             NaN      NaN  \n",
      "3         NaN           NaN           NaN             NaN      NaN  \n",
      "4         NaN           NaN           NaN             NaN      NaN  \n"
     ]
    }
   ],
   "source": [
    "arquivos = glob.glob(\"*.txt\")\n",
    "\n",
    "linhas = []\n",
    "for arquivo in arquivos:\n",
    "    with open(arquivo, \"r\") as f:\n",
    "        for linha in f:\n",
    "            if linha.strip():  # ignora linhas vazias\n",
    "                dados = json.loads(linha)  # cada linha é uma lista JSON\n",
    "                for d in dados:\n",
    "                    d[\"arquivo_origem\"] = os.path.basename(arquivo)  # opcional: guarda nome do arquivo\n",
    "                    linhas.append(d)\n",
    "df = pd.json_normalize(linhas)\n",
    "print(df.head())\n",
    "\n",
    "# df.to_csv(\"dados_unificados.csv\", index=False)"
   ]
  },
  {
   "cell_type": "code",
   "execution_count": 13,
   "id": "db032525-8e39-4f84-a7a2-b9c8d05f6c93",
   "metadata": {},
   "outputs": [
    {
     "data": {
      "text/plain": [
       "<bound method DataFrame.info of                        timestamp     type           mac  gatewayFree  \\\n",
       "0       2025-08-22T12:59:19.421Z  Gateway  AC233FC15CC5         57.0   \n",
       "1       2025-08-22T12:59:19.614Z  Unknown  C30000400862          NaN   \n",
       "2       2025-08-22T12:59:19.957Z  Unknown  C30000400861          NaN   \n",
       "3       2025-08-22T12:59:20.209Z  Unknown  C30000400862          NaN   \n",
       "4       2025-08-22T12:59:20.510Z  Gateway  AC233FC15CC5         57.0   \n",
       "...                          ...      ...           ...          ...   \n",
       "367887  2025-08-23T01:33:57.963Z  Gateway  AC233FC15CC5         46.0   \n",
       "367888  2025-08-23T01:33:58.558Z  Unknown  C30000400861          NaN   \n",
       "367889  2025-08-23T01:33:58.860Z  Unknown  C30000400862          NaN   \n",
       "367890  2025-08-23T01:33:59.033Z  Gateway  AC233FC15CC5         46.0   \n",
       "367891  2025-08-23T01:33:59.607Z  Unknown  C30000400857          NaN   \n",
       "\n",
       "        gatewayLoad       seq               arquivo_origem  \\\n",
       "0              0.07   81488.0  2025-08-22_12-59-20.462.txt   \n",
       "1               NaN       NaN  2025-08-22_12-59-20.462.txt   \n",
       "2               NaN       NaN  2025-08-22_12-59-20.462.txt   \n",
       "3               NaN       NaN  2025-08-22_12-59-20.462.txt   \n",
       "4              0.07   81489.0  2025-08-22_12-59-20.462.txt   \n",
       "...             ...       ...                          ...   \n",
       "367887         0.10  107517.0  2025-08-22_19-17-20.409.txt   \n",
       "367888          NaN       NaN  2025-08-22_19-17-20.409.txt   \n",
       "367889          NaN       NaN  2025-08-22_19-17-20.409.txt   \n",
       "367890         0.10  107518.0  2025-08-22_19-17-20.409.txt   \n",
       "367891          NaN       NaN  2025-08-22_19-17-20.409.txt   \n",
       "\n",
       "                                                               rawData  \\\n",
       "0                                                                  NaN   \n",
       "1               02010617FF3906CA03246208400000C321642500082201100370BF   \n",
       "2               02010617FF3906CA03246108400000C3216425000822018152E6F2   \n",
       "3       0201061BFF3906CA1A01642200FCCF7E0840EE570840E5610840EF14CE9A3A   \n",
       "4                                                                  NaN   \n",
       "...                                                                ...   \n",
       "367887                                                             NaN   \n",
       "367888          02010617FF3906CA03246108400000C3216425000822019FC3207F   \n",
       "367889          02010617FF3906CA03246208400000C321642500082201B30CA159   \n",
       "367890                                                             NaN   \n",
       "367891  0201061BFF3906CA1A01B1580840E27F71D6D2620840E2610840E55269E189   \n",
       "\n",
       "       bleName  bleNo  rssi ibeaconUuid  ibeaconMajor  ibeaconMinor  \\\n",
       "0          NaN    NaN   NaN         NaN           NaN           NaN   \n",
       "1                 2.0 -53.0         NaN           NaN           NaN   \n",
       "2                 2.0 -62.0         NaN           NaN           NaN   \n",
       "3                 2.0 -53.0         NaN           NaN           NaN   \n",
       "4          NaN    NaN   NaN         NaN           NaN           NaN   \n",
       "...        ...    ...   ...         ...           ...           ...   \n",
       "367887     NaN    NaN   NaN         NaN           NaN           NaN   \n",
       "367888            2.0 -57.0         NaN           NaN           NaN   \n",
       "367889            2.0 -71.0         NaN           NaN           NaN   \n",
       "367890     NaN    NaN   NaN         NaN           NaN           NaN   \n",
       "367891            2.0 -58.0         NaN           NaN           NaN   \n",
       "\n",
       "        ibeaconTxPower  battery  \n",
       "0                  NaN      NaN  \n",
       "1                  NaN      NaN  \n",
       "2                  NaN      NaN  \n",
       "3                  NaN      NaN  \n",
       "4                  NaN      NaN  \n",
       "...                ...      ...  \n",
       "367887             NaN      NaN  \n",
       "367888             NaN      NaN  \n",
       "367889             NaN      NaN  \n",
       "367890             NaN      NaN  \n",
       "367891             NaN      NaN  \n",
       "\n",
       "[367892 rows x 16 columns]>"
      ]
     },
     "execution_count": 13,
     "metadata": {},
     "output_type": "execute_result"
    }
   ],
   "source": [
    "df.info"
   ]
  },
  {
   "cell_type": "code",
   "execution_count": 18,
   "id": "a7247679-a7ea-464f-968e-1b69d8c55b55",
   "metadata": {},
   "outputs": [
    {
     "name": "stdout",
     "output_type": "stream",
     "text": [
      "                  timestamp           mac  \\\n",
      "0  2025-08-23T21:58:44.663Z  C300001DA91C   \n",
      "1  2025-08-23T21:58:44.562Z  C300001DA91C   \n",
      "2  2025-08-23T21:58:44.360Z  C300001DA91C   \n",
      "3  2025-08-23T21:58:44.259Z  C300001DA91C   \n",
      "4  2025-08-23T21:58:44.107Z  C300001DA91C   \n",
      "5  2025-08-23T21:58:44.107Z  C300001DA91C   \n",
      "6  2025-08-23T21:58:43.814Z  C300001DA91C   \n",
      "7  2025-08-23T21:57:48.256Z  C300001DA912   \n",
      "8  2025-08-23T21:57:48.155Z  C300001DA912   \n",
      "9  2025-08-23T21:57:48.064Z  C300001DA912   \n",
      "\n",
      "                                                rawData  \n",
      "0  0201060303E1FF1216E1FFA103640007FFF600F31CA91D0000C3  \n",
      "1  0201060303E1FF1216E1FFA103640007FFFB00FA1CA91D0000C3  \n",
      "2  0201060303E1FF1216E1FFA103640005FFF400FA1CA91D0000C3  \n",
      "3  0201060303E1FF1216E1FFA103640007FFFE01001CA91D0000C3  \n",
      "4  0201060303E1FF1216E1FFA103640002FFF400FA1CA91D0000C3  \n",
      "5  0201060303E1FF1216E1FFA103640002FFF100F51CA91D0000C3  \n",
      "6  0201060303E1FF1216E1FFA103640007FFF600F81CA91D0000C3  \n",
      "7  0201060303E1FF1216E1FFA1036400050002FEFE12A91D0000C3  \n",
      "8  0201060303E1FF1216E1FFA1036400350002FEF412A91D0000C3  \n",
      "9  0201060303E1FF1216E1FFA10364000C0000FF0012A91D0000C3  \n"
     ]
    }
   ],
   "source": [
    "pd.set_option(\"display.max_colwidth\", None)\n",
    "\n",
    "query = \"\"\"\n",
    "SELECT \n",
    "    timestamp, mac, rawData\n",
    "FROM df\n",
    "WHERE\n",
    "   mac = 'C300001DA91C'\n",
    "   OR mac = 'C300001DA912'\n",
    "   OR mac = 'C3000049D100'\n",
    "ORDER BY\n",
    "    timestamp DESC\n",
    "\"\"\"\n",
    "\n",
    "result = ps.sqldf(query, locals())\n",
    "print(result.head(10))\n",
    "result.to_csv(\"raw_weekend.csv\", index = False)"
   ]
  }
 ],
 "metadata": {
  "kernelspec": {
   "display_name": "Python 3 (ipykernel)",
   "language": "python",
   "name": "python3"
  },
  "language_info": {
   "codemirror_mode": {
    "name": "ipython",
    "version": 3
   },
   "file_extension": ".py",
   "mimetype": "text/x-python",
   "name": "python",
   "nbconvert_exporter": "python",
   "pygments_lexer": "ipython3",
   "version": "3.8.10"
  }
 },
 "nbformat": 4,
 "nbformat_minor": 5
}
